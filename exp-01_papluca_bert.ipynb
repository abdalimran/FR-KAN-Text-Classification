{
 "cells": [
  {
   "cell_type": "markdown",
   "metadata": {},
   "source": [
    "## Ensuring Reproducibility"
   ]
  },
  {
   "cell_type": "code",
   "execution_count": 1,
   "metadata": {},
   "outputs": [],
   "source": [
    "import torch\n",
    "import random\n",
    "import numpy as np\n",
    "\n",
    "# Set a fixed seed value for reproducibility\n",
    "SEED = 42\n",
    "random.seed(SEED)\n",
    "np.random.seed(SEED)\n",
    "torch.manual_seed(SEED)\n",
    "torch.cuda.manual_seed_all(SEED)\n",
    "torch.backends.cudnn.deterministic = True\n",
    "torch.backends.cudnn.benchmark = False"
   ]
  },
  {
   "cell_type": "markdown",
   "metadata": {},
   "source": [
    "## Loading dataset"
   ]
  },
  {
   "cell_type": "code",
   "execution_count": 2,
   "metadata": {},
   "outputs": [
    {
     "data": {
      "application/vnd.jupyter.widget-view+json": {
       "model_id": "482a9c9d9da44d18aa407f1010adc7ac",
       "version_major": 2,
       "version_minor": 0
      },
      "text/plain": [
       "Downloading data:   0%|          | 0.00/12.0M [00:00<?, ?B/s]"
      ]
     },
     "metadata": {},
     "output_type": "display_data"
    },
    {
     "data": {
      "application/vnd.jupyter.widget-view+json": {
       "model_id": "f1901a104628404b9e6417b6a146fc68",
       "version_major": 2,
       "version_minor": 0
      },
      "text/plain": [
       "Downloading data:   0%|          | 0.00/1.71M [00:00<?, ?B/s]"
      ]
     },
     "metadata": {},
     "output_type": "display_data"
    },
    {
     "data": {
      "application/vnd.jupyter.widget-view+json": {
       "model_id": "2ea2a496c4854607ac3b5f1d992843d4",
       "version_major": 2,
       "version_minor": 0
      },
      "text/plain": [
       "Downloading data:   0%|          | 0.00/1.69M [00:00<?, ?B/s]"
      ]
     },
     "metadata": {},
     "output_type": "display_data"
    },
    {
     "data": {
      "application/vnd.jupyter.widget-view+json": {
       "model_id": "947d8d7dd4dc462886a8010acb4e799d",
       "version_major": 2,
       "version_minor": 0
      },
      "text/plain": [
       "Generating train split:   0%|          | 0/70000 [00:00<?, ? examples/s]"
      ]
     },
     "metadata": {},
     "output_type": "display_data"
    },
    {
     "data": {
      "application/vnd.jupyter.widget-view+json": {
       "model_id": "1426235246204bf39fc0b2d822dd94c1",
       "version_major": 2,
       "version_minor": 0
      },
      "text/plain": [
       "Generating validation split:   0%|          | 0/10000 [00:00<?, ? examples/s]"
      ]
     },
     "metadata": {},
     "output_type": "display_data"
    },
    {
     "data": {
      "application/vnd.jupyter.widget-view+json": {
       "model_id": "244d6136f300414aab118365b4ace2cf",
       "version_major": 2,
       "version_minor": 0
      },
      "text/plain": [
       "Generating test split:   0%|          | 0/10000 [00:00<?, ? examples/s]"
      ]
     },
     "metadata": {},
     "output_type": "display_data"
    }
   ],
   "source": [
    "import torch.nn as nn\n",
    "from transformers import AutoModel, AutoTokenizer\n",
    "from datasets import DatasetDict, load_dataset, concatenate_datasets\n",
    "from torch.utils.data import DataLoader\n",
    "from transformers import DataCollatorWithPadding\n",
    "\n",
    "# Load the dataset\n",
    "papluca = load_dataset(\"papluca/language-identification\")"
   ]
  },
  {
   "cell_type": "code",
   "execution_count": 13,
   "metadata": {},
   "outputs": [
    {
     "data": {
      "application/vnd.jupyter.widget-view+json": {
       "model_id": "71255d37304f404aab2f3d02adab3676",
       "version_major": 2,
       "version_minor": 0
      },
      "text/plain": [
       "Casting to class labels:   0%|          | 0/90000 [00:00<?, ? examples/s]"
      ]
     },
     "metadata": {},
     "output_type": "display_data"
    },
    {
     "data": {
      "text/plain": [
       "DatasetDict({\n",
       "    train: Dataset({\n",
       "        features: ['label', 'text'],\n",
       "        num_rows: 10500\n",
       "    })\n",
       "    eval: Dataset({\n",
       "        features: ['label', 'text'],\n",
       "        num_rows: 2250\n",
       "    })\n",
       "    test: Dataset({\n",
       "        features: ['label', 'text'],\n",
       "        num_rows: 2250\n",
       "    })\n",
       "})"
      ]
     },
     "execution_count": 13,
     "metadata": {},
     "output_type": "execute_result"
    }
   ],
   "source": [
    "dataset = concatenate_datasets([papluca[\"train\"], papluca[\"validation\"], papluca[\"test\"]])\n",
    "dataset = dataset.rename_column(\"labels\", \"label\")\n",
    "dataset = dataset.class_encode_column(\"label\")\n",
    "\n",
    "SAMPLE_SIZE = 15000\n",
    "\n",
    "dataset = dataset.shuffle(seed=SEED).select([i for i in list(range(SAMPLE_SIZE))])\n",
    "\n",
    "train_test = dataset.train_test_split(test_size=0.3, stratify_by_column=\"label\")\n",
    "eval_test = train_test[\"test\"].train_test_split(test_size=0.5)\n",
    "\n",
    "papluca = DatasetDict(\n",
    "    {\n",
    "        \"train\": train_test[\"train\"],\n",
    "        \"eval\": eval_test[\"train\"],\n",
    "        \"test\": eval_test[\"test\"],\n",
    "    }\n",
    ")\n",
    "\n",
    "papluca"
   ]
  },
  {
   "cell_type": "markdown",
   "metadata": {},
   "source": [
    "## Loading dataset"
   ]
  },
  {
   "cell_type": "code",
   "execution_count": 15,
   "metadata": {},
   "outputs": [
    {
     "data": {
      "application/vnd.jupyter.widget-view+json": {
       "model_id": "3e3e3879d5294f5c9695b4e476a59709",
       "version_major": 2,
       "version_minor": 0
      },
      "text/plain": [
       "tokenizer_config.json:   0%|          | 0.00/48.0 [00:00<?, ?B/s]"
      ]
     },
     "metadata": {},
     "output_type": "display_data"
    },
    {
     "data": {
      "application/vnd.jupyter.widget-view+json": {
       "model_id": "4a5cc4ce7e93460fb9a76d5d39a0895d",
       "version_major": 2,
       "version_minor": 0
      },
      "text/plain": [
       "config.json:   0%|          | 0.00/625 [00:00<?, ?B/s]"
      ]
     },
     "metadata": {},
     "output_type": "display_data"
    },
    {
     "data": {
      "application/vnd.jupyter.widget-view+json": {
       "model_id": "02d534b9e1db4fb79230c6bc724e9b3f",
       "version_major": 2,
       "version_minor": 0
      },
      "text/plain": [
       "vocab.txt:   0%|          | 0.00/872k [00:00<?, ?B/s]"
      ]
     },
     "metadata": {},
     "output_type": "display_data"
    },
    {
     "data": {
      "application/vnd.jupyter.widget-view+json": {
       "model_id": "ed90a32f0e1e4caf84563bdc09a7e065",
       "version_major": 2,
       "version_minor": 0
      },
      "text/plain": [
       "tokenizer.json:   0%|          | 0.00/1.72M [00:00<?, ?B/s]"
      ]
     },
     "metadata": {},
     "output_type": "display_data"
    },
    {
     "data": {
      "application/vnd.jupyter.widget-view+json": {
       "model_id": "151335c27bc642cbbb11dea56cba4782",
       "version_major": 2,
       "version_minor": 0
      },
      "text/plain": [
       "model.safetensors:   0%|          | 0.00/672M [00:00<?, ?B/s]"
      ]
     },
     "metadata": {},
     "output_type": "display_data"
    }
   ],
   "source": [
    "# Load the pre-trained transformer model and tokenizer\n",
    "model_name = \"google-bert/bert-base-multilingual-uncased\"\n",
    "tokenizer = AutoTokenizer.from_pretrained(model_name)\n",
    "transformer_model = AutoModel.from_pretrained(model_name)"
   ]
  },
  {
   "cell_type": "code",
   "execution_count": 16,
   "metadata": {},
   "outputs": [],
   "source": [
    "# Freeze the pre-trained model parameters\n",
    "for param in transformer_model.parameters():\n",
    "    param.requires_grad = False"
   ]
  },
  {
   "cell_type": "markdown",
   "metadata": {},
   "source": [
    "## Preparing data"
   ]
  },
  {
   "cell_type": "code",
   "execution_count": 17,
   "metadata": {},
   "outputs": [
    {
     "data": {
      "application/vnd.jupyter.widget-view+json": {
       "model_id": "acb0d29b11c14f20a5920b64685c8af2",
       "version_major": 2,
       "version_minor": 0
      },
      "text/plain": [
       "Map:   0%|          | 0/10500 [00:00<?, ? examples/s]"
      ]
     },
     "metadata": {},
     "output_type": "display_data"
    },
    {
     "data": {
      "application/vnd.jupyter.widget-view+json": {
       "model_id": "7fc7c8da9c884fbf9b6e1576196ec3b6",
       "version_major": 2,
       "version_minor": 0
      },
      "text/plain": [
       "Map:   0%|          | 0/2250 [00:00<?, ? examples/s]"
      ]
     },
     "metadata": {},
     "output_type": "display_data"
    },
    {
     "data": {
      "application/vnd.jupyter.widget-view+json": {
       "model_id": "fa7cce61358c4c4eb4cb60ae48034c11",
       "version_major": 2,
       "version_minor": 0
      },
      "text/plain": [
       "Map:   0%|          | 0/2250 [00:00<?, ? examples/s]"
      ]
     },
     "metadata": {},
     "output_type": "display_data"
    }
   ],
   "source": [
    "# Set up the data collator and dataloaders\n",
    "data_collator = DataCollatorWithPadding(tokenizer=tokenizer)\n",
    "\n",
    "max_length = 512\n",
    "batch_size = 64\n",
    "\n",
    "def preprocess_function(examples):\n",
    "    return tokenizer(examples[\"text\"], truncation=True, padding=True, max_length=max_length)\n",
    "\n",
    "train_dataset = papluca[\"train\"].shuffle(seed=SEED)\n",
    "eval_dataset = papluca[\"test\"].shuffle(seed=SEED)\n",
    "test_dataset = papluca[\"test\"]\n",
    "\n",
    "tokenized_train = train_dataset.map(\n",
    "    preprocess_function, batched=True, remove_columns=[\"text\"]\n",
    ")\n",
    "tokenized_eval = eval_dataset.map(\n",
    "    preprocess_function, batched=True, remove_columns=[\"text\"]\n",
    ")\n",
    "tokenized_test = test_dataset.map(\n",
    "    preprocess_function, batched=True, remove_columns=[\"text\"]\n",
    ")\n",
    "\n",
    "train_dataloader = DataLoader(tokenized_train, shuffle=True, batch_size=batch_size, collate_fn=data_collator)\n",
    "eval_dataloader = DataLoader(tokenized_eval, batch_size=batch_size, collate_fn=data_collator)\n",
    "test_dataloader = DataLoader(tokenized_test, batch_size=batch_size, collate_fn=data_collator)"
   ]
  },
  {
   "cell_type": "code",
   "execution_count": 18,
   "metadata": {},
   "outputs": [
    {
     "name": "stdout",
     "output_type": "stream",
     "text": [
      "Using device: mps\n"
     ]
    }
   ],
   "source": [
    "# Move the model to the GPU (if available)\n",
    "device = \"mps\" if torch.backends.mps.is_available() else \"cpu\"\n",
    "# device = torch.device(\"cuda:0\" if torch.cuda.is_available() else \"cpu\")\n",
    "print(f\"Using device: {device}\")"
   ]
  },
  {
   "cell_type": "markdown",
   "metadata": {},
   "source": [
    "## Designing classification head"
   ]
  },
  {
   "cell_type": "code",
   "execution_count": 19,
   "metadata": {},
   "outputs": [],
   "source": [
    "# Define the custom classification head\n",
    "class ClassificationHead(nn.Module):\n",
    "    def __init__(self, transformer_model, num_classes):\n",
    "        super().__init__()\n",
    "        self.transformer_model = transformer_model.to(device)\n",
    "        self.dropout = nn.Dropout(0.1)\n",
    "        self.classifier = nn.Linear(transformer_model.config.hidden_size, num_classes).to(device)\n",
    "\n",
    "    def forward(self, input_ids, attention_mask):\n",
    "        output = self.transformer_model(input_ids=input_ids, attention_mask=attention_mask)[0]\n",
    "        output = self.dropout(output[:, 0])  # Take the CLS token representation\n",
    "        output = self.classifier(output)\n",
    "        return output"
   ]
  },
  {
   "cell_type": "markdown",
   "metadata": {},
   "source": [
    "## Tuning model"
   ]
  },
  {
   "cell_type": "code",
   "execution_count": 20,
   "metadata": {},
   "outputs": [
    {
     "name": "stdout",
     "output_type": "stream",
     "text": [
      "Number of labels = 20\n"
     ]
    },
    {
     "data": {
      "text/plain": [
       "{0, 1, 2, 3, 4, 5, 6, 7, 8, 9, 10, 11, 12, 13, 14, 15, 16, 17, 18, 19}"
      ]
     },
     "execution_count": 20,
     "metadata": {},
     "output_type": "execute_result"
    }
   ],
   "source": [
    "print(f\"Number of labels = {len(set(train_dataset['label']))}\")\n",
    "set(train_dataset[\"label\"])"
   ]
  },
  {
   "cell_type": "code",
   "execution_count": 21,
   "metadata": {},
   "outputs": [],
   "source": [
    "# Set hyperparameters\n",
    "num_classes = 20\n",
    "learning_rate = 2e-5\n",
    "num_epochs = 5"
   ]
  },
  {
   "cell_type": "code",
   "execution_count": 22,
   "metadata": {},
   "outputs": [],
   "source": [
    "# Create the classification model\n",
    "model = ClassificationHead(transformer_model, num_classes)\n",
    "\n",
    "# Set up the optimizer and loss function\n",
    "optimizer = torch.optim.AdamW(model.parameters(), lr=learning_rate)\n",
    "loss_fn = nn.CrossEntropyLoss()"
   ]
  },
  {
   "cell_type": "code",
   "execution_count": 23,
   "metadata": {},
   "outputs": [
    {
     "data": {
      "text/plain": [
       "({0, 1, 2, 3, 4, 5, 6, 7, 8, 9, 10, 11, 12, 13, 14, 15, 16, 17, 18, 19},\n",
       " {0, 1, 2, 3, 4, 5, 6, 7, 8, 9, 10, 12, 13, 14, 15, 16, 17, 18, 19})"
      ]
     },
     "execution_count": 23,
     "metadata": {},
     "output_type": "execute_result"
    }
   ],
   "source": [
    "set(train_dataloader.dataset[\"label\"]), set(list(train_dataloader)[0][\"labels\"].detach().tolist())"
   ]
  },
  {
   "cell_type": "code",
   "execution_count": 24,
   "metadata": {},
   "outputs": [],
   "source": [
    "from pycm import ConfusionMatrix\n",
    "\n",
    "\n",
    "def train_epoch(model, train_dataloader, optimizer, loss_fn, device):\n",
    "    model.train()\n",
    "    train_loss = 0\n",
    "    for batch in train_dataloader:\n",
    "        input_ids = batch[\"input_ids\"].to(device)\n",
    "        attention_mask = batch[\"attention_mask\"].to(device)\n",
    "        labels = batch[\"labels\"].to(device)\n",
    "        optimizer.zero_grad()\n",
    "        output = model(input_ids, attention_mask)\n",
    "        loss = loss_fn(output, labels)\n",
    "        train_loss += loss.item()\n",
    "        loss.backward()\n",
    "        optimizer.step()\n",
    "    return train_loss / len(train_dataloader)\n",
    "\n",
    "\n",
    "def eval_epoch(model, eval_dataloader, loss_fn, device):\n",
    "    model.eval()\n",
    "    eval_loss = 0\n",
    "    y_preds = []\n",
    "    for batch in eval_dataloader:\n",
    "        input_ids = batch[\"input_ids\"].to(device)\n",
    "        attention_mask = batch[\"attention_mask\"].to(device)\n",
    "        labels = batch[\"labels\"].to(device)\n",
    "        output = model(input_ids, attention_mask)\n",
    "        loss = loss_fn(output, labels)\n",
    "        eval_loss += loss.item()\n",
    "        y_preds.extend(output.argmax(dim=1).detach().tolist())\n",
    "    return eval_loss / len(eval_dataloader), y_preds\n",
    "\n",
    "\n",
    "def test_model(model, test_dataloader, loss_fn, device):\n",
    "    model.eval()\n",
    "    test_loss = 0\n",
    "    y_preds = []\n",
    "    for batch in test_dataloader:\n",
    "        input_ids = batch[\"input_ids\"].to(device)\n",
    "        attention_mask = batch[\"attention_mask\"].to(device)\n",
    "        labels = batch[\"labels\"].to(device)\n",
    "        output = model(input_ids, attention_mask)\n",
    "        loss = loss_fn(output, labels)\n",
    "        test_loss += loss.item()\n",
    "        y_preds.extend(output.argmax(dim=1).detach().tolist())\n",
    "    test_loss /= len(test_dataloader)\n",
    "    test_cm = ConfusionMatrix(test_dataloader.dataset[\"label\"], y_preds, digit=5)\n",
    "    return test_loss, test_cm, y_preds\n",
    "\n",
    "\n",
    "def train_model(\n",
    "    model,\n",
    "    train_dataloader,\n",
    "    eval_dataloader,\n",
    "    test_dataloader,\n",
    "    optimizer,\n",
    "    loss_fn,\n",
    "    device,\n",
    "    num_epochs,\n",
    "):\n",
    "    stats = {}\n",
    "    for epoch in range(num_epochs):\n",
    "        tloss = train_epoch(model, train_dataloader, optimizer, loss_fn, device)\n",
    "        eloss, y_preds = eval_epoch(model, eval_dataloader, loss_fn, device)\n",
    "        evaluation_cm = ConfusionMatrix(\n",
    "            eval_dataloader.dataset[\"label\"], y_preds, digit=5\n",
    "        )\n",
    "\n",
    "        stats[f\"epoch_{epoch+1}\"] = {\n",
    "            \"training_loss\": tloss,\n",
    "            \"validation_loss\": eloss,\n",
    "            f\"epoch{epoch+1}_pred\": y_preds,\n",
    "            \"validation_metrics\": evaluation_cm,\n",
    "        }\n",
    "\n",
    "        print(\n",
    "            f\"Epoch = {epoch+1}/{num_epochs}\\t Training Loss = {tloss:.2f}\\t Validation Loss = {eloss:.2f}\\t Validation Accuracy = {evaluation_cm.Overall_ACC:.2f}\"\n",
    "        )\n",
    "\n",
    "    test_loss, test_cm, test_preds = test_model(model, test_dataloader, loss_fn, device)\n",
    "    stats[\"test_loss\"] = test_loss\n",
    "    stats[\"test_metrics\"] = test_cm\n",
    "    stats[\"test_pred\"] = test_preds\n",
    "\n",
    "    stats[\"eval_labels\"] = eval_dataloader.dataset[\"label\"]\n",
    "    stats[\"test_labels\"] = test_dataloader.dataset[\"label\"]\n",
    "\n",
    "    print(f\"\\nTest Accuracy = {test_cm.Overall_ACC:.2f}\")\n",
    "\n",
    "    return stats"
   ]
  },
  {
   "cell_type": "code",
   "execution_count": 25,
   "metadata": {},
   "outputs": [
    {
     "name": "stdout",
     "output_type": "stream",
     "text": [
      "Epoch = 1/5\t Training Loss = 3.00\t Validation Loss = 2.98\t Validation Accuracy = 0.12\n",
      "Epoch = 2/5\t Training Loss = 2.96\t Validation Loss = 2.94\t Validation Accuracy = 0.25\n",
      "Epoch = 3/5\t Training Loss = 2.93\t Validation Loss = 2.90\t Validation Accuracy = 0.29\n",
      "Epoch = 4/5\t Training Loss = 2.89\t Validation Loss = 2.87\t Validation Accuracy = 0.45\n",
      "Epoch = 5/5\t Training Loss = 2.86\t Validation Loss = 2.84\t Validation Accuracy = 0.58\n",
      "\n",
      "Test Accuracy = 0.58\n"
     ]
    }
   ],
   "source": [
    "# Train the model and evaluate on test set\n",
    "stats = train_model(\n",
    "    model,\n",
    "    train_dataloader,\n",
    "    eval_dataloader,\n",
    "    test_dataloader,\n",
    "    optimizer,\n",
    "    loss_fn,\n",
    "    device,\n",
    "    num_epochs,\n",
    ")"
   ]
  },
  {
   "cell_type": "markdown",
   "metadata": {},
   "source": [
    "## Saving the results"
   ]
  },
  {
   "cell_type": "code",
   "execution_count": 26,
   "metadata": {},
   "outputs": [],
   "source": [
    "import pickle\n",
    "\n",
    "with open(f\"results/papluca_bert.pickle\", \"wb\") as file:\n",
    "    pickle.dump(stats, file)\n",
    "\n",
    "# # with open(\"papluca_bert.pickle\", \"rb\") as file:\n",
    "# #     stats = pickle.load(file)"
   ]
  },
  {
   "cell_type": "markdown",
   "metadata": {},
   "source": [
    "## Model Parameters"
   ]
  },
  {
   "cell_type": "code",
   "execution_count": 27,
   "metadata": {},
   "outputs": [
    {
     "name": "stdout",
     "output_type": "stream",
     "text": [
      "+-------------------+------------+\n",
      "|      Modules      | Parameters |\n",
      "+-------------------+------------+\n",
      "| classifier.weight |   15360    |\n",
      "|  classifier.bias  |     20     |\n",
      "+-------------------+------------+\n",
      "Total Number of Parameters: 167371796\n",
      "Total Trainable Params: 15380\n"
     ]
    }
   ],
   "source": [
    "from torch.nn.utils import parameters_to_vector\n",
    "from prettytable import PrettyTable\n",
    "\n",
    "\n",
    "def count_parameters_per_layer(model):\n",
    "    table = PrettyTable([\"Modules\", \"Parameters\"])\n",
    "    total_params = 0\n",
    "    for name, parameter in model.named_parameters():\n",
    "        if not parameter.requires_grad:\n",
    "            continue\n",
    "        params = parameter.numel()\n",
    "        table.add_row([name, params])\n",
    "        total_params += params\n",
    "    print(table)\n",
    "    print(f\"Total Number of Parameters: {parameters_to_vector(model.parameters()).numel()}\")\n",
    "    print(f\"Total Trainable Params: {total_params}\")\n",
    "\n",
    "\n",
    "count_parameters_per_layer(model)"
   ]
  },
  {
   "cell_type": "code",
   "execution_count": null,
   "metadata": {},
   "outputs": [],
   "source": []
  }
 ],
 "metadata": {
  "kernelspec": {
   "display_name": "Python 3 (ipykernel)",
   "language": "python",
   "name": "python3"
  },
  "language_info": {
   "codemirror_mode": {
    "name": "ipython",
    "version": 3
   },
   "file_extension": ".py",
   "mimetype": "text/x-python",
   "name": "python",
   "nbconvert_exporter": "python",
   "pygments_lexer": "ipython3",
   "version": "3.10.13"
  }
 },
 "nbformat": 4,
 "nbformat_minor": 2
}
