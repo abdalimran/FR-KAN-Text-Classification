{
 "cells": [
  {
   "cell_type": "markdown",
   "metadata": {},
   "source": [
    "## Ensuring Reproducibility"
   ]
  },
  {
   "cell_type": "code",
   "execution_count": 1,
   "metadata": {},
   "outputs": [],
   "source": [
    "import torch\n",
    "import random\n",
    "import numpy as np\n",
    "\n",
    "# Set a fixed seed value for reproducibility\n",
    "SEED = 42\n",
    "random.seed(SEED)\n",
    "np.random.seed(SEED)\n",
    "torch.manual_seed(SEED)\n",
    "torch.cuda.manual_seed_all(SEED)\n",
    "torch.backends.cudnn.deterministic = True\n",
    "torch.backends.cudnn.benchmark = False"
   ]
  },
  {
   "cell_type": "markdown",
   "metadata": {},
   "source": [
    "## Loading dataset"
   ]
  },
  {
   "cell_type": "code",
   "execution_count": 2,
   "metadata": {},
   "outputs": [],
   "source": [
    "import torch.nn as nn\n",
    "from transformers import AutoModel, AutoTokenizer\n",
    "from datasets import DatasetDict, load_dataset, concatenate_datasets\n",
    "from torch.utils.data import DataLoader\n",
    "from transformers import DataCollatorWithPadding\n",
    "\n",
    "# Load the dataset\n",
    "agnews = load_dataset(\"ag_news\")"
   ]
  },
  {
   "cell_type": "code",
   "execution_count": 3,
   "metadata": {},
   "outputs": [
    {
     "data": {
      "text/plain": [
       "DatasetDict({\n",
       "    train: Dataset({\n",
       "        features: ['text', 'label'],\n",
       "        num_rows: 10500\n",
       "    })\n",
       "    eval: Dataset({\n",
       "        features: ['text', 'label'],\n",
       "        num_rows: 2250\n",
       "    })\n",
       "    test: Dataset({\n",
       "        features: ['text', 'label'],\n",
       "        num_rows: 2250\n",
       "    })\n",
       "})"
      ]
     },
     "execution_count": 3,
     "metadata": {},
     "output_type": "execute_result"
    }
   ],
   "source": [
    "dataset = concatenate_datasets([agnews[\"train\"], agnews[\"test\"]])\n",
    "\n",
    "SAMPLE_SIZE = 15000\n",
    "\n",
    "dataset = dataset.shuffle(seed=SEED).select([i for i in list(range(SAMPLE_SIZE))])\n",
    "\n",
    "train_test = dataset.train_test_split(test_size=0.3, stratify_by_column=\"label\")\n",
    "eval_test = train_test[\"test\"].train_test_split(test_size=0.5)\n",
    "\n",
    "agnews = DatasetDict(\n",
    "    {\n",
    "        \"train\": train_test[\"train\"],\n",
    "        \"eval\": eval_test[\"train\"],\n",
    "        \"test\": eval_test[\"test\"],\n",
    "    }\n",
    ")\n",
    "\n",
    "agnews"
   ]
  },
  {
   "cell_type": "markdown",
   "metadata": {},
   "source": [
    "## Loading dataset"
   ]
  },
  {
   "cell_type": "code",
   "execution_count": 4,
   "metadata": {},
   "outputs": [],
   "source": [
    "# Load the pre-trained transformer model and tokenizer\n",
    "model_name = \"google/electra-base-discriminator\"\n",
    "tokenizer = AutoTokenizer.from_pretrained(model_name)\n",
    "transformer_model = AutoModel.from_pretrained(model_name)"
   ]
  },
  {
   "cell_type": "code",
   "execution_count": 5,
   "metadata": {},
   "outputs": [],
   "source": [
    "# Freeze the pre-trained model parameters\n",
    "for param in transformer_model.parameters():\n",
    "    param.requires_grad = False"
   ]
  },
  {
   "cell_type": "markdown",
   "metadata": {},
   "source": [
    "## Preparing data"
   ]
  },
  {
   "cell_type": "code",
   "execution_count": 6,
   "metadata": {},
   "outputs": [
    {
     "data": {
      "application/vnd.jupyter.widget-view+json": {
       "model_id": "fd6ab63c9b58422780255d0ebc290bc4",
       "version_major": 2,
       "version_minor": 0
      },
      "text/plain": [
       "Map:   0%|          | 0/10500 [00:00<?, ? examples/s]"
      ]
     },
     "metadata": {},
     "output_type": "display_data"
    },
    {
     "data": {
      "application/vnd.jupyter.widget-view+json": {
       "model_id": "625492b74a8e48bdba616cec0f699642",
       "version_major": 2,
       "version_minor": 0
      },
      "text/plain": [
       "Map:   0%|          | 0/2250 [00:00<?, ? examples/s]"
      ]
     },
     "metadata": {},
     "output_type": "display_data"
    },
    {
     "data": {
      "application/vnd.jupyter.widget-view+json": {
       "model_id": "bef5dd0522d34fbdace9a6e2d945c7ba",
       "version_major": 2,
       "version_minor": 0
      },
      "text/plain": [
       "Map:   0%|          | 0/2250 [00:00<?, ? examples/s]"
      ]
     },
     "metadata": {},
     "output_type": "display_data"
    }
   ],
   "source": [
    "# Set up the data collator and dataloaders\n",
    "data_collator = DataCollatorWithPadding(tokenizer=tokenizer)\n",
    "\n",
    "max_length = 512\n",
    "batch_size = 64\n",
    "\n",
    "def preprocess_function(examples):\n",
    "    return tokenizer(examples[\"text\"], truncation=True, padding=True, max_length=max_length)\n",
    "\n",
    "train_dataset = agnews[\"train\"].shuffle(seed=SEED)\n",
    "eval_dataset = agnews[\"test\"].shuffle(seed=SEED)\n",
    "test_dataset = agnews[\"test\"]\n",
    "\n",
    "tokenized_train = train_dataset.map(preprocess_function, batched=True, remove_columns=[\"text\"])\n",
    "tokenized_eval = eval_dataset.map(preprocess_function, batched=True, remove_columns=[\"text\"])\n",
    "tokenized_test = test_dataset.map(preprocess_function, batched=True, remove_columns=[\"text\"])\n",
    "\n",
    "train_dataloader = DataLoader(tokenized_train, shuffle=True, batch_size=batch_size, collate_fn=data_collator)\n",
    "eval_dataloader = DataLoader(tokenized_eval, batch_size=batch_size, collate_fn=data_collator)\n",
    "test_dataloader = DataLoader(tokenized_test, batch_size=batch_size, collate_fn=data_collator)"
   ]
  },
  {
   "cell_type": "code",
   "execution_count": 7,
   "metadata": {},
   "outputs": [
    {
     "name": "stdout",
     "output_type": "stream",
     "text": [
      "Using device: mps\n"
     ]
    }
   ],
   "source": [
    "# Move the model to the GPU (if available)\n",
    "device = \"mps\" if torch.backends.mps.is_available() else \"cpu\"\n",
    "# device = torch.device(\"cuda:0\" if torch.cuda.is_available() else \"cpu\")\n",
    "print(f\"Using device: {device}\")"
   ]
  },
  {
   "cell_type": "markdown",
   "metadata": {},
   "source": [
    "## Designing classification head"
   ]
  },
  {
   "cell_type": "code",
   "execution_count": 8,
   "metadata": {},
   "outputs": [],
   "source": [
    "# Define the custom classification head\n",
    "class ClassificationHead(nn.Module):\n",
    "    def __init__(self, transformer_model, num_classes):\n",
    "        super().__init__()\n",
    "        self.transformer_model = transformer_model.to(device)\n",
    "        self.dropout = nn.Dropout(0.1)\n",
    "        self.classifier = nn.Linear(transformer_model.config.hidden_size, num_classes).to(device)\n",
    "\n",
    "    def forward(self, input_ids, attention_mask):\n",
    "        output = self.transformer_model(input_ids=input_ids, attention_mask=attention_mask)[0]\n",
    "        output = self.dropout(output[:, 0])  # Take the CLS token representation\n",
    "        output = self.classifier(output)\n",
    "        return output"
   ]
  },
  {
   "cell_type": "markdown",
   "metadata": {},
   "source": [
    "## Tuning model"
   ]
  },
  {
   "cell_type": "code",
   "execution_count": 9,
   "metadata": {},
   "outputs": [
    {
     "name": "stdout",
     "output_type": "stream",
     "text": [
      "Number of labels = 4\n"
     ]
    },
    {
     "data": {
      "text/plain": [
       "{0, 1, 2, 3}"
      ]
     },
     "execution_count": 9,
     "metadata": {},
     "output_type": "execute_result"
    }
   ],
   "source": [
    "print(f\"Number of labels = {len(set(train_dataset['label']))}\")\n",
    "set(train_dataset[\"label\"])"
   ]
  },
  {
   "cell_type": "code",
   "execution_count": 10,
   "metadata": {},
   "outputs": [],
   "source": [
    "# Set hyperparameters\n",
    "num_classes = 4\n",
    "learning_rate = 2e-5\n",
    "num_epochs = 5"
   ]
  },
  {
   "cell_type": "code",
   "execution_count": 11,
   "metadata": {},
   "outputs": [],
   "source": [
    "# Create the classification model\n",
    "model = ClassificationHead(transformer_model, num_classes)\n",
    "\n",
    "# Set up the optimizer and loss function\n",
    "optimizer = torch.optim.AdamW(model.parameters(), lr=learning_rate)\n",
    "loss_fn = nn.CrossEntropyLoss()"
   ]
  },
  {
   "cell_type": "code",
   "execution_count": 12,
   "metadata": {},
   "outputs": [
    {
     "data": {
      "text/plain": [
       "({0, 1, 2, 3}, {0, 1, 2, 3})"
      ]
     },
     "execution_count": 12,
     "metadata": {},
     "output_type": "execute_result"
    }
   ],
   "source": [
    "set(train_dataloader.dataset[\"label\"]), set(list(train_dataloader)[0][\"labels\"].detach().tolist())"
   ]
  },
  {
   "cell_type": "code",
   "execution_count": 13,
   "metadata": {},
   "outputs": [],
   "source": [
    "from pycm import ConfusionMatrix\n",
    "\n",
    "\n",
    "def train_epoch(model, train_dataloader, optimizer, loss_fn, device):\n",
    "    model.train()\n",
    "    train_loss = 0\n",
    "    for batch in train_dataloader:\n",
    "        input_ids = batch[\"input_ids\"].to(device)\n",
    "        attention_mask = batch[\"attention_mask\"].to(device)\n",
    "        labels = batch[\"labels\"].to(device)\n",
    "        optimizer.zero_grad()\n",
    "        output = model(input_ids, attention_mask)\n",
    "        loss = loss_fn(output, labels)\n",
    "        train_loss += loss.item()\n",
    "        loss.backward()\n",
    "        optimizer.step()\n",
    "    return train_loss / len(train_dataloader)\n",
    "\n",
    "\n",
    "def eval_epoch(model, eval_dataloader, loss_fn, device):\n",
    "    model.eval()\n",
    "    eval_loss = 0\n",
    "    y_preds = []\n",
    "    for batch in eval_dataloader:\n",
    "        input_ids = batch[\"input_ids\"].to(device)\n",
    "        attention_mask = batch[\"attention_mask\"].to(device)\n",
    "        labels = batch[\"labels\"].to(device)\n",
    "        output = model(input_ids, attention_mask)\n",
    "        loss = loss_fn(output, labels)\n",
    "        eval_loss += loss.item()\n",
    "        y_preds.extend(output.argmax(dim=1).detach().tolist())\n",
    "    return eval_loss / len(eval_dataloader), y_preds\n",
    "\n",
    "\n",
    "def test_model(model, test_dataloader, loss_fn, device):\n",
    "    model.eval()\n",
    "    test_loss = 0\n",
    "    y_preds = []\n",
    "    for batch in test_dataloader:\n",
    "        input_ids = batch[\"input_ids\"].to(device)\n",
    "        attention_mask = batch[\"attention_mask\"].to(device)\n",
    "        labels = batch[\"labels\"].to(device)\n",
    "        output = model(input_ids, attention_mask)\n",
    "        loss = loss_fn(output, labels)\n",
    "        test_loss += loss.item()\n",
    "        y_preds.extend(output.argmax(dim=1).detach().tolist())\n",
    "    test_loss /= len(test_dataloader)\n",
    "    test_cm = ConfusionMatrix(test_dataloader.dataset[\"label\"], y_preds, digit=5)\n",
    "    return test_loss, test_cm, y_preds\n",
    "\n",
    "\n",
    "def train_model(\n",
    "    model,\n",
    "    train_dataloader,\n",
    "    eval_dataloader,\n",
    "    test_dataloader,\n",
    "    optimizer,\n",
    "    loss_fn,\n",
    "    device,\n",
    "    num_epochs,\n",
    "):\n",
    "    stats = {}\n",
    "    for epoch in range(num_epochs):\n",
    "        tloss = train_epoch(model, train_dataloader, optimizer, loss_fn, device)\n",
    "        eloss, y_preds = eval_epoch(model, eval_dataloader, loss_fn, device)\n",
    "        evaluation_cm = ConfusionMatrix(\n",
    "            eval_dataloader.dataset[\"label\"], y_preds, digit=5\n",
    "        )\n",
    "\n",
    "        stats[f\"epoch_{epoch+1}\"] = {\n",
    "            \"training_loss\": tloss,\n",
    "            \"validation_loss\": eloss,\n",
    "            f\"epoch{epoch+1}_pred\": y_preds,\n",
    "            \"validation_metrics\": evaluation_cm,\n",
    "        }\n",
    "\n",
    "        print(\n",
    "            f\"Epoch = {epoch+1}/{num_epochs}\\t Training Loss = {tloss:.2f}\\t Validation Loss = {eloss:.2f}\\t Validation Accuracy = {evaluation_cm.Overall_ACC:.2f}\"\n",
    "        )\n",
    "\n",
    "    test_loss, test_cm, test_preds = test_model(model, test_dataloader, loss_fn, device)\n",
    "    stats[\"test_loss\"] = test_loss\n",
    "    stats[\"test_metrics\"] = test_cm\n",
    "    stats[\"test_pred\"] = test_preds\n",
    "\n",
    "    stats[\"eval_labels\"] = eval_dataloader.dataset[\"label\"]\n",
    "    stats[\"test_labels\"] = test_dataloader.dataset[\"label\"]\n",
    "\n",
    "    print(f\"\\nTest Accuracy = {test_cm.Overall_ACC:.2f}\")\n",
    "\n",
    "    return stats"
   ]
  },
  {
   "cell_type": "code",
   "execution_count": 14,
   "metadata": {},
   "outputs": [
    {
     "name": "stdout",
     "output_type": "stream",
     "text": [
      "Epoch = 1/5\t Training Loss = 1.38\t Validation Loss = 1.36\t Validation Accuracy = 0.40\n",
      "Epoch = 2/5\t Training Loss = 1.36\t Validation Loss = 1.34\t Validation Accuracy = 0.43\n",
      "Epoch = 3/5\t Training Loss = 1.35\t Validation Loss = 1.33\t Validation Accuracy = 0.46\n",
      "Epoch = 4/5\t Training Loss = 1.33\t Validation Loss = 1.31\t Validation Accuracy = 0.49\n",
      "Epoch = 5/5\t Training Loss = 1.32\t Validation Loss = 1.30\t Validation Accuracy = 0.48\n",
      "\n",
      "Test Accuracy = 0.48\n"
     ]
    }
   ],
   "source": [
    "# Train the model and evaluate on test set\n",
    "stats = train_model(\n",
    "    model,\n",
    "    train_dataloader,\n",
    "    eval_dataloader,\n",
    "    test_dataloader,\n",
    "    optimizer,\n",
    "    loss_fn,\n",
    "    device,\n",
    "    num_epochs,\n",
    ")"
   ]
  },
  {
   "cell_type": "markdown",
   "metadata": {},
   "source": [
    "## Saving the results"
   ]
  },
  {
   "cell_type": "code",
   "execution_count": 15,
   "metadata": {},
   "outputs": [],
   "source": [
    "import pickle\n",
    "\n",
    "with open(f\"results/agnews_electra.pickle\", \"wb\") as file:\n",
    "    pickle.dump(stats, file)\n",
    "\n",
    "# # with open(\"agnews_electra.pickle\", \"rb\") as file:\n",
    "# #     stats = pickle.load(file)"
   ]
  },
  {
   "cell_type": "markdown",
   "metadata": {},
   "source": [
    "## Model Parameters"
   ]
  },
  {
   "cell_type": "code",
   "execution_count": 16,
   "metadata": {},
   "outputs": [
    {
     "name": "stdout",
     "output_type": "stream",
     "text": [
      "+-------------------+------------+\n",
      "|      Modules      | Parameters |\n",
      "+-------------------+------------+\n",
      "| classifier.weight |    3072    |\n",
      "|  classifier.bias  |     4      |\n",
      "+-------------------+------------+\n",
      "Total Number of Parameters: 108894724\n",
      "Total Trainable Params: 3076\n"
     ]
    }
   ],
   "source": [
    "from torch.nn.utils import parameters_to_vector\n",
    "from prettytable import PrettyTable\n",
    "\n",
    "\n",
    "def count_parameters_per_layer(model):\n",
    "    table = PrettyTable([\"Modules\", \"Parameters\"])\n",
    "    total_params = 0\n",
    "    for name, parameter in model.named_parameters():\n",
    "        if not parameter.requires_grad:\n",
    "            continue\n",
    "        params = parameter.numel()\n",
    "        table.add_row([name, params])\n",
    "        total_params += params\n",
    "    print(table)\n",
    "    print(f\"Total Number of Parameters: {parameters_to_vector(model.parameters()).numel()}\")\n",
    "    print(f\"Total Trainable Params: {total_params}\")\n",
    "\n",
    "\n",
    "count_parameters_per_layer(model)"
   ]
  },
  {
   "cell_type": "code",
   "execution_count": null,
   "metadata": {},
   "outputs": [],
   "source": []
  }
 ],
 "metadata": {
  "kernelspec": {
   "display_name": "Python 3 (ipykernel)",
   "language": "python",
   "name": "python3"
  },
  "language_info": {
   "codemirror_mode": {
    "name": "ipython",
    "version": 3
   },
   "file_extension": ".py",
   "mimetype": "text/x-python",
   "name": "python",
   "nbconvert_exporter": "python",
   "pygments_lexer": "ipython3",
   "version": "3.10.13"
  }
 },
 "nbformat": 4,
 "nbformat_minor": 2
}
