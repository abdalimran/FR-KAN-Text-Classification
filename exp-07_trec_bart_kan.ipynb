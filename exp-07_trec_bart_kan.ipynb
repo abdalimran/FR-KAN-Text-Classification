{
    "cells": [
        {
            "cell_type": "markdown",
            "metadata": {},
            "source": [
                "## Ensuring Reproducibility"
            ]
        },
        {
            "cell_type": "code",
            "execution_count": 1,
            "metadata": {},
            "outputs": [],
            "source": [
                "import torch\n",
                "import random\n",
                "import numpy as np\n",
                "\n",
                "# Set a fixed seed value for reproducibility\n",
                "SEED = 42\n",
                "random.seed(SEED)\n",
                "np.random.seed(SEED)\n",
                "torch.manual_seed(SEED)\n",
                "torch.cuda.manual_seed_all(SEED)\n",
                "torch.backends.cudnn.deterministic = True\n",
                "torch.backends.cudnn.benchmark = False"
            ]
        },
        {
            "cell_type": "markdown",
            "metadata": {},
            "source": [
                "## Loading dataset"
            ]
        },
        {
            "cell_type": "code",
            "execution_count": 2,
            "metadata": {},
            "outputs": [
                {
                    "name": "stderr",
                    "output_type": "stream",
                    "text": [
                        "/opt/miniconda3/envs/deeplearning/lib/python3.10/site-packages/datasets/load.py:1486: FutureWarning: The repository for trec contains custom code which must be executed to correctly load the dataset. You can inspect the repository content at https://hf.co/datasets/trec\n",
                        "You can avoid this message in future by passing the argument `trust_remote_code=True`.\n",
                        "Passing `trust_remote_code=True` will be mandatory to load this dataset from the next major release of `datasets`.\n",
                        "  warnings.warn(\n"
                    ]
                }
            ],
            "source": [
                "import torch.nn as nn\n",
                "from transformers import AutoModel, AutoTokenizer\n",
                "from datasets import DatasetDict, load_dataset, concatenate_datasets\n",
                "from torch.utils.data import DataLoader\n",
                "from transformers import DataCollatorWithPadding\n",
                "\n",
                "# Load the IMDB dataset\n",
                "trec = load_dataset(\"trec\")"
            ]
        },
        {
            "cell_type": "code",
            "execution_count": 3,
            "metadata": {},
            "outputs": [],
            "source": [
                "trec = trec.rename_column(\"fine_label\", \"label\")"
            ]
        },
        {
            "cell_type": "code",
            "execution_count": 4,
            "metadata": {},
            "outputs": [
                {
                    "data": {
                        "text/plain": [
                            "DatasetDict({\n",
                            "    train: Dataset({\n",
                            "        features: ['text', 'coarse_label', 'label'],\n",
                            "        num_rows: 4166\n",
                            "    })\n",
                            "    eval: Dataset({\n",
                            "        features: ['text', 'coarse_label', 'label'],\n",
                            "        num_rows: 893\n",
                            "    })\n",
                            "    test: Dataset({\n",
                            "        features: ['text', 'coarse_label', 'label'],\n",
                            "        num_rows: 893\n",
                            "    })\n",
                            "})"
                        ]
                    },
                    "execution_count": 4,
                    "metadata": {},
                    "output_type": "execute_result"
                }
            ],
            "source": [
                "dataset = concatenate_datasets([trec[\"train\"], trec[\"test\"]])\n",
                "\n",
                "train_test = dataset.train_test_split(test_size=0.3, stratify_by_column=\"label\")\n",
                "eval_test = train_test[\"test\"].train_test_split(test_size=0.5)\n",
                "\n",
                "trec = DatasetDict(\n",
                "    {\n",
                "        \"train\": train_test[\"train\"],\n",
                "        \"eval\": eval_test[\"train\"],\n",
                "        \"test\": eval_test[\"test\"],\n",
                "    }\n",
                ")\n",
                "\n",
                "trec"
            ]
        },
        {
            "cell_type": "markdown",
            "metadata": {},
            "source": [
                "## Loading dataset"
            ]
        },
        {
            "cell_type": "code",
            "execution_count": 5,
            "metadata": {},
            "outputs": [],
            "source": [
                "# Load the pre-trained transformer model and tokenizer\n",
                "model_name = \"facebook/bart-large-mnli\"\n",
                "tokenizer = AutoTokenizer.from_pretrained(model_name)\n",
                "transformer_model = AutoModel.from_pretrained(model_name)"
            ]
        },
        {
            "cell_type": "code",
            "execution_count": 6,
            "metadata": {},
            "outputs": [],
            "source": [
                "# Freeze the pre-trained model parameters\n",
                "for param in transformer_model.parameters():\n",
                "    param.requires_grad = False"
            ]
        },
        {
            "cell_type": "markdown",
            "metadata": {},
            "source": [
                "## Preparing data"
            ]
        },
        {
            "cell_type": "code",
            "execution_count": 7,
            "metadata": {},
            "outputs": [
                {
                    "data": {
                        "application/vnd.jupyter.widget-view+json": {
                            "model_id": "87aa3ba20a1c432c8cfdb474b749939e",
                            "version_major": 2,
                            "version_minor": 0
                        },
                        "text/plain": [
                            "Map:   0%|          | 0/893 [00:00<?, ? examples/s]"
                        ]
                    },
                    "metadata": {},
                    "output_type": "display_data"
                }
            ],
            "source": [
                "# Set up the data collator and dataloaders\n",
                "data_collator = DataCollatorWithPadding(tokenizer=tokenizer)\n",
                "\n",
                "max_length = 512\n",
                "batch_size = 64\n",
                "\n",
                "def preprocess_function(examples):\n",
                "    return tokenizer(examples[\"text\"], truncation=True, padding=True, max_length=max_length)\n",
                "\n",
                "train_dataset = trec[\"train\"].shuffle(seed=SEED)\n",
                "eval_dataset = trec[\"test\"].shuffle(seed=SEED)\n",
                "test_dataset = trec[\"test\"]\n",
                "\n",
                "tokenized_train = train_dataset.map(preprocess_function, batched=True, remove_columns=[\"text\", \"coarse_label\"])\n",
                "tokenized_eval = eval_dataset.map(preprocess_function, batched=True, remove_columns=[\"text\", \"coarse_label\"])\n",
                "tokenized_test = test_dataset.map(preprocess_function, batched=True, remove_columns=[\"text\", \"coarse_label\"])\n",
                "\n",
                "train_dataloader = DataLoader(tokenized_train, shuffle=True, batch_size=batch_size, collate_fn=data_collator)\n",
                "eval_dataloader = DataLoader(tokenized_eval, batch_size=batch_size, collate_fn=data_collator)\n",
                "test_dataloader = DataLoader(tokenized_test, batch_size=batch_size, collate_fn=data_collator)"
            ]
        },
        {
            "cell_type": "code",
            "execution_count": 8,
            "metadata": {},
            "outputs": [
                {
                    "name": "stdout",
                    "output_type": "stream",
                    "text": [
                        "Using device: mps\n"
                    ]
                }
            ],
            "source": [
                "# Move the model to the GPU (if available)\n",
                "device = \"mps\" if torch.backends.mps.is_available() else \"cpu\"\n",
                "# device = torch.device(\"cuda:0\" if torch.cuda.is_available() else \"cpu\")\n",
                "print(f\"Using device: {device}\")"
            ]
        },
        {
            "cell_type": "markdown",
            "metadata": {},
            "source": [
                "## Designing classification head"
            ]
        },
        {
            "cell_type": "code",
            "execution_count": 9,
            "metadata": {},
            "outputs": [],
            "source": [
                "from kan import FourierKANLayer\n",
                "\n",
                "\n",
                "# Define the custom classification head using KAN\n",
                "class KANClassificationHead(nn.Module):\n",
                "    def __init__(self, transformer_model, num_classes, gridsize=5):\n",
                "        super().__init__()\n",
                "        self.transformer_model = transformer_model.to(device)\n",
                "        self.dropout = nn.Dropout(0.1)\n",
                "        self.classifier = FourierKANLayer(\n",
                "            transformer_model.config.hidden_size, num_classes, gridsize\n",
                "        ).to(device)\n",
                "\n",
                "    def forward(self, input_ids, attention_mask):\n",
                "        output = self.transformer_model(\n",
                "            input_ids=input_ids, attention_mask=attention_mask\n",
                "        )[0]\n",
                "        output = self.dropout(output[:, 0])  # Take the CLS token representation\n",
                "        output = self.classifier(output)\n",
                "        return output"
            ]
        },
        {
            "cell_type": "markdown",
            "metadata": {},
            "source": [
                "## Tuning model"
            ]
        },
        {
            "cell_type": "code",
            "execution_count": 10,
            "metadata": {},
            "outputs": [
                {
                    "name": "stdout",
                    "output_type": "stream",
                    "text": [
                        "Number of labels = 50\n"
                    ]
                },
                {
                    "data": {
                        "text/plain": [
                            "{0,\n",
                            " 1,\n",
                            " 2,\n",
                            " 3,\n",
                            " 4,\n",
                            " 5,\n",
                            " 6,\n",
                            " 7,\n",
                            " 8,\n",
                            " 9,\n",
                            " 10,\n",
                            " 11,\n",
                            " 12,\n",
                            " 13,\n",
                            " 14,\n",
                            " 15,\n",
                            " 16,\n",
                            " 17,\n",
                            " 18,\n",
                            " 19,\n",
                            " 20,\n",
                            " 21,\n",
                            " 22,\n",
                            " 23,\n",
                            " 24,\n",
                            " 25,\n",
                            " 26,\n",
                            " 27,\n",
                            " 28,\n",
                            " 29,\n",
                            " 30,\n",
                            " 31,\n",
                            " 32,\n",
                            " 33,\n",
                            " 34,\n",
                            " 35,\n",
                            " 36,\n",
                            " 37,\n",
                            " 38,\n",
                            " 39,\n",
                            " 40,\n",
                            " 41,\n",
                            " 42,\n",
                            " 43,\n",
                            " 44,\n",
                            " 45,\n",
                            " 46,\n",
                            " 47,\n",
                            " 48,\n",
                            " 49}"
                        ]
                    },
                    "execution_count": 10,
                    "metadata": {},
                    "output_type": "execute_result"
                }
            ],
            "source": [
                "print(f\"Number of labels = {len(set(train_dataset['label']))}\")\n",
                "set(train_dataset[\"label\"])"
            ]
        },
        {
            "cell_type": "code",
            "execution_count": 11,
            "metadata": {},
            "outputs": [],
            "source": [
                "# Set hyperparameters\n",
                "num_classes = 50\n",
                "learning_rate = 2e-5\n",
                "num_epochs = 5"
            ]
        },
        {
            "cell_type": "code",
            "execution_count": 12,
            "metadata": {},
            "outputs": [],
            "source": [
                "# Create the classification model\n",
                "model = KANClassificationHead(transformer_model, num_classes)\n",
                "\n",
                "# Set up the optimizer and loss function\n",
                "optimizer = torch.optim.AdamW(model.parameters(), lr=learning_rate)\n",
                "loss_fn = nn.CrossEntropyLoss()"
            ]
        },
        {
            "cell_type": "code",
            "execution_count": 13,
            "metadata": {},
            "outputs": [
                {
                    "data": {
                        "text/plain": [
                            "({0,\n",
                            "  1,\n",
                            "  2,\n",
                            "  3,\n",
                            "  4,\n",
                            "  5,\n",
                            "  6,\n",
                            "  7,\n",
                            "  8,\n",
                            "  9,\n",
                            "  10,\n",
                            "  11,\n",
                            "  12,\n",
                            "  13,\n",
                            "  14,\n",
                            "  15,\n",
                            "  16,\n",
                            "  17,\n",
                            "  18,\n",
                            "  19,\n",
                            "  20,\n",
                            "  21,\n",
                            "  22,\n",
                            "  23,\n",
                            "  24,\n",
                            "  25,\n",
                            "  26,\n",
                            "  27,\n",
                            "  28,\n",
                            "  29,\n",
                            "  30,\n",
                            "  31,\n",
                            "  32,\n",
                            "  33,\n",
                            "  34,\n",
                            "  35,\n",
                            "  36,\n",
                            "  37,\n",
                            "  38,\n",
                            "  39,\n",
                            "  40,\n",
                            "  41,\n",
                            "  42,\n",
                            "  43,\n",
                            "  44,\n",
                            "  45,\n",
                            "  46,\n",
                            "  47,\n",
                            "  48,\n",
                            "  49},\n",
                            " {0,\n",
                            "  1,\n",
                            "  4,\n",
                            "  5,\n",
                            "  8,\n",
                            "  9,\n",
                            "  11,\n",
                            "  13,\n",
                            "  17,\n",
                            "  18,\n",
                            "  22,\n",
                            "  24,\n",
                            "  25,\n",
                            "  26,\n",
                            "  27,\n",
                            "  29,\n",
                            "  30,\n",
                            "  32,\n",
                            "  33,\n",
                            "  34,\n",
                            "  35,\n",
                            "  36,\n",
                            "  38,\n",
                            "  39,\n",
                            "  43,\n",
                            "  44,\n",
                            "  47})"
                        ]
                    },
                    "execution_count": 13,
                    "metadata": {},
                    "output_type": "execute_result"
                }
            ],
            "source": [
                "set(train_dataloader.dataset[\"label\"]), set(list(train_dataloader)[0][\"labels\"].detach().tolist())"
            ]
        },
        {
            "cell_type": "code",
            "execution_count": 14,
            "metadata": {},
            "outputs": [],
            "source": [
                "from pycm import ConfusionMatrix\n",
                "\n",
                "\n",
                "def train_epoch(model, train_dataloader, optimizer, loss_fn, device):\n",
                "    model.train()\n",
                "    train_loss = 0\n",
                "    for batch in train_dataloader:\n",
                "        input_ids = batch[\"input_ids\"].to(device)\n",
                "        attention_mask = batch[\"attention_mask\"].to(device)\n",
                "        labels = batch[\"labels\"].to(device)\n",
                "        optimizer.zero_grad()\n",
                "        output = model(input_ids, attention_mask)\n",
                "        loss = loss_fn(output, labels)\n",
                "        train_loss += loss.item()\n",
                "        loss.backward()\n",
                "        optimizer.step()\n",
                "    return train_loss / len(train_dataloader)\n",
                "\n",
                "\n",
                "def eval_epoch(model, eval_dataloader, loss_fn, device):\n",
                "    model.eval()\n",
                "    eval_loss = 0\n",
                "    y_preds = []\n",
                "    for batch in eval_dataloader:\n",
                "        input_ids = batch[\"input_ids\"].to(device)\n",
                "        attention_mask = batch[\"attention_mask\"].to(device)\n",
                "        labels = batch[\"labels\"].to(device)\n",
                "        output = model(input_ids, attention_mask)\n",
                "        loss = loss_fn(output, labels)\n",
                "        eval_loss += loss.item()\n",
                "        y_preds.extend(output.argmax(dim=1).detach().tolist())\n",
                "    return eval_loss / len(eval_dataloader), y_preds\n",
                "\n",
                "\n",
                "def test_model(model, test_dataloader, loss_fn, device):\n",
                "    model.eval()\n",
                "    test_loss = 0\n",
                "    y_preds = []\n",
                "    for batch in test_dataloader:\n",
                "        input_ids = batch[\"input_ids\"].to(device)\n",
                "        attention_mask = batch[\"attention_mask\"].to(device)\n",
                "        labels = batch[\"labels\"].to(device)\n",
                "        output = model(input_ids, attention_mask)\n",
                "        loss = loss_fn(output, labels)\n",
                "        test_loss += loss.item()\n",
                "        y_preds.extend(output.argmax(dim=1).detach().tolist())\n",
                "    test_loss /= len(test_dataloader)\n",
                "    test_cm = ConfusionMatrix(test_dataloader.dataset[\"label\"], y_preds, digit=5)\n",
                "    return test_loss, test_cm, y_preds\n",
                "\n",
                "\n",
                "def train_model(\n",
                "    model,\n",
                "    train_dataloader,\n",
                "    eval_dataloader,\n",
                "    test_dataloader,\n",
                "    optimizer,\n",
                "    loss_fn,\n",
                "    device,\n",
                "    num_epochs,\n",
                "):\n",
                "    stats = {}\n",
                "    for epoch in range(num_epochs):\n",
                "        tloss = train_epoch(model, train_dataloader, optimizer, loss_fn, device)\n",
                "        eloss, y_preds = eval_epoch(model, eval_dataloader, loss_fn, device)\n",
                "        evaluation_cm = ConfusionMatrix(\n",
                "            eval_dataloader.dataset[\"label\"], y_preds, digit=5\n",
                "        )\n",
                "\n",
                "        stats[f\"epoch_{epoch+1}\"] = {\n",
                "            \"training_loss\": tloss,\n",
                "            \"validation_loss\": eloss,\n",
                "            f\"epoch{epoch+1}_pred\": y_preds,\n",
                "            \"validation_metrics\": evaluation_cm,\n",
                "        }\n",
                "\n",
                "        print(\n",
                "            f\"Epoch = {epoch+1}/{num_epochs}\\t Training Loss = {tloss:.2f}\\t Validation Loss = {eloss:.2f}\\t Validation Accuracy = {evaluation_cm.Overall_ACC:.2f}\"\n",
                "        )\n",
                "\n",
                "    test_loss, test_cm, test_preds = test_model(model, test_dataloader, loss_fn, device)\n",
                "    stats[\"test_loss\"] = test_loss\n",
                "    stats[\"test_metrics\"] = test_cm\n",
                "    stats[\"test_pred\"] = test_preds\n",
                "\n",
                "    stats[\"eval_labels\"] = eval_dataloader.dataset[\"label\"]\n",
                "    stats[\"test_labels\"] = test_dataloader.dataset[\"label\"]\n",
                "\n",
                "    print(f\"\\nTest Accuracy = {test_cm.Overall_ACC:.2f}\")\n",
                "\n",
                "    return stats"
            ]
        },
        {
            "cell_type": "code",
            "execution_count": 15,
            "metadata": {},
            "outputs": [
                {
                    "name": "stdout",
                    "output_type": "stream",
                    "text": [
                        "Epoch = 1/5\t Training Loss = 3.62\t Validation Loss = 2.85\t Validation Accuracy = 0.29\n",
                        "Epoch = 2/5\t Training Loss = 3.05\t Validation Loss = 2.53\t Validation Accuracy = 0.38\n",
                        "Epoch = 3/5\t Training Loss = 2.86\t Validation Loss = 2.37\t Validation Accuracy = 0.42\n",
                        "Epoch = 4/5\t Training Loss = 2.70\t Validation Loss = 2.28\t Validation Accuracy = 0.44\n",
                        "Epoch = 5/5\t Training Loss = 2.58\t Validation Loss = 2.21\t Validation Accuracy = 0.45\n",
                        "\n",
                        "Test Accuracy = 0.45\n"
                    ]
                }
            ],
            "source": [
                "# Train the model and evaluate on test set\n",
                "stats = train_model(\n",
                "    model,\n",
                "    train_dataloader,\n",
                "    eval_dataloader,\n",
                "    test_dataloader,\n",
                "    optimizer,\n",
                "    loss_fn,\n",
                "    device,\n",
                "    num_epochs,\n",
                ")"
            ]
        },
        {
            "cell_type": "markdown",
            "metadata": {},
            "source": [
                "## Saving the results"
            ]
        },
        {
            "cell_type": "code",
            "execution_count": 16,
            "metadata": {},
            "outputs": [],
            "source": [
                "import pickle\n",
                "\n",
                "with open(f\"results/trec_bart_kan.pickle\", \"wb\") as file:\n",
                "    pickle.dump(stats, file)\n",
                "\n",
                "# # with open(\"trec_bart_kan.pickle\", \"rb\") as file:\n",
                "# #     stats = pickle.load(file)"
            ]
        },
        {
            "cell_type": "markdown",
            "metadata": {},
            "source": [
                "## Model Parameters"
            ]
        },
        {
            "cell_type": "code",
            "execution_count": 17,
            "metadata": {},
            "outputs": [
                {
                    "name": "stdout",
                    "output_type": "stream",
                    "text": [
                        "+--------------------------+------------+\n",
                        "|         Modules          | Parameters |\n",
                        "+--------------------------+------------+\n",
                        "| classifier.fouriercoeffs |   512000   |\n",
                        "|     classifier.bias      |     50     |\n",
                        "+--------------------------+------------+\n",
                        "Total Number of Parameters: 406803506\n",
                        "Total Trainable Params: 512050\n"
                    ]
                }
            ],
            "source": [
                "from torch.nn.utils import parameters_to_vector\n",
                "from prettytable import PrettyTable\n",
                "\n",
                "\n",
                "def count_parameters_per_layer(model):\n",
                "    table = PrettyTable([\"Modules\", \"Parameters\"])\n",
                "    total_params = 0\n",
                "    for name, parameter in model.named_parameters():\n",
                "        if not parameter.requires_grad:\n",
                "            continue\n",
                "        params = parameter.numel()\n",
                "        table.add_row([name, params])\n",
                "        total_params += params\n",
                "    print(table)\n",
                "    print(f\"Total Number of Parameters: {parameters_to_vector(model.parameters()).numel()}\")\n",
                "    print(f\"Total Trainable Params: {total_params}\")\n",
                "\n",
                "\n",
                "count_parameters_per_layer(model)"
            ]
        },
        {
            "cell_type": "code",
            "execution_count": null,
            "metadata": {},
            "outputs": [],
            "source": []
        }
    ],
    "metadata": {
        "kernelspec": {
            "display_name": "Python 3 (ipykernel)",
            "language": "python",
            "name": "python3"
        },
        "language_info": {
            "codemirror_mode": {
                "name": "ipython",
                "version": 3
            },
            "file_extension": ".py",
            "mimetype": "text/x-python",
            "name": "python",
            "nbconvert_exporter": "python",
            "pygments_lexer": "ipython3",
            "version": "3.10.13"
        }
    },
    "nbformat": 4,
    "nbformat_minor": 2
}
