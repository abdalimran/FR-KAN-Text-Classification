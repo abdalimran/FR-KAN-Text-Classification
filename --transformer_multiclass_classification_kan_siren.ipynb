{
 "cells": [
  {
   "cell_type": "code",
   "execution_count": 1,
   "metadata": {},
   "outputs": [
    {
     "name": "stderr",
     "output_type": "stream",
     "text": [
      "Repo card metadata block was not found. Setting CardData to empty.\n"
     ]
    }
   ],
   "source": [
    "import torch\n",
    "import torch.nn as nn\n",
    "from transformers import AutoModel, AutoTokenizer\n",
    "from datasets import load_dataset\n",
    "from torch.utils.data import DataLoader\n",
    "from transformers import DataCollatorWithPadding\n",
    "\n",
    "# Load the IMDB dataset\n",
    "sst5 = load_dataset(\"SetFit/sst5\")"
   ]
  },
  {
   "cell_type": "code",
   "execution_count": 2,
   "metadata": {},
   "outputs": [],
   "source": [
    "# Load the pre-trained transformer model and tokenizer\n",
    "model_name = \"distilbert-base-uncased\"\n",
    "tokenizer = AutoTokenizer.from_pretrained(model_name)\n",
    "transformer_model = AutoModel.from_pretrained(model_name)"
   ]
  },
  {
   "cell_type": "code",
   "execution_count": 3,
   "metadata": {},
   "outputs": [],
   "source": [
    "# Freeze the pre-trained model parameters\n",
    "for param in transformer_model.parameters():\n",
    "    param.requires_grad = False"
   ]
  },
  {
   "cell_type": "code",
   "execution_count": 4,
   "metadata": {},
   "outputs": [
    {
     "data": {
      "application/vnd.jupyter.widget-view+json": {
       "model_id": "eac73b5fe02c486abdd2034f73465fd5",
       "version_major": 2,
       "version_minor": 0
      },
      "text/plain": [
       "Map:   0%|          | 0/3000 [00:00<?, ? examples/s]"
      ]
     },
     "metadata": {},
     "output_type": "display_data"
    },
    {
     "data": {
      "application/vnd.jupyter.widget-view+json": {
       "model_id": "0005532d0808488aafb89af4196e4527",
       "version_major": 2,
       "version_minor": 0
      },
      "text/plain": [
       "Map:   0%|          | 0/300 [00:00<?, ? examples/s]"
      ]
     },
     "metadata": {},
     "output_type": "display_data"
    },
    {
     "data": {
      "application/vnd.jupyter.widget-view+json": {
       "model_id": "3f39e20426bc406093450a53c553bcc0",
       "version_major": 2,
       "version_minor": 0
      },
      "text/plain": [
       "Map:   0%|          | 0/300 [00:00<?, ? examples/s]"
      ]
     },
     "metadata": {},
     "output_type": "display_data"
    }
   ],
   "source": [
    "# Set up the data collator and dataloaders\n",
    "data_collator = DataCollatorWithPadding(tokenizer=tokenizer)\n",
    "\n",
    "max_length = 512\n",
    "batch_size = 32\n",
    "\n",
    "def preprocess_function(examples):\n",
    "    return tokenizer(examples[\"text\"], truncation=True, padding=True, max_length=max_length)\n",
    "\n",
    "\n",
    "small_train_dataset = (sst5[\"train\"].shuffle(seed=42).select([i for i in list(range(3000))]))\n",
    "small_eval_dataset = sst5[\"test\"].shuffle(seed=42).select([i for i in list(range(300))])\n",
    "small_test_dataset = sst5[\"test\"].select([i for i in list(range(300, 600))])\n",
    "\n",
    "tokenized_train = small_train_dataset.map(preprocess_function, batched=True, remove_columns=[\"text\", \"label_text\"])\n",
    "tokenized_eval = small_eval_dataset.map(preprocess_function, batched=True, remove_columns=[\"text\", \"label_text\"])\n",
    "tokenized_test = small_test_dataset.map(preprocess_function, batched=True, remove_columns=[\"text\", \"label_text\"])\n",
    "\n",
    "train_dataloader = DataLoader(tokenized_train, shuffle=True, batch_size=batch_size, collate_fn=data_collator)\n",
    "eval_dataloader = DataLoader(tokenized_eval, batch_size=batch_size, collate_fn=data_collator)\n",
    "test_dataloader = DataLoader(tokenized_test, batch_size=batch_size, collate_fn=data_collator)"
   ]
  },
  {
   "cell_type": "code",
   "execution_count": 5,
   "metadata": {},
   "outputs": [
    {
     "name": "stdout",
     "output_type": "stream",
     "text": [
      "Using device: mps\n"
     ]
    }
   ],
   "source": [
    "# Move the model to the GPU (if available)\n",
    "device = \"mps\" if torch.backends.mps.is_available() else \"cpu\"\n",
    "# device = torch.device(\"cuda:0\" if torch.cuda.is_available() else \"cpu\")\n",
    "print(f\"Using device: {device}\")"
   ]
  },
  {
   "cell_type": "code",
   "execution_count": 6,
   "metadata": {},
   "outputs": [],
   "source": [
    "from kan_siren import KAN\n",
    "\n",
    "\n",
    "# Define the custom classification head using KAN\n",
    "class KANClassificationHead(nn.Module):\n",
    "    def __init__(self, transformer_model, num_classes):\n",
    "        super().__init__()\n",
    "        self.transformer_model = transformer_model.to(device)\n",
    "        self.dropout = nn.Dropout(0.1)\n",
    "        # Create the KAN module with the appropriate input and output sizes\n",
    "        self.kan = KAN(\n",
    "            layers_hidden=[transformer_model.config.hidden_size, num_classes],\n",
    "            grid_size=5,\n",
    "            spline_order=3,\n",
    "            scale_noise=0.1,\n",
    "            scale_base=1.0,\n",
    "            scale_spline=1.0,\n",
    "            base_activation=torch.nn.SiLU,\n",
    "            grid_eps=0.02,\n",
    "            grid_range=[-1, 1],\n",
    "        ).to(device)\n",
    "\n",
    "    def forward(self, input_ids, attention_mask):\n",
    "        output = self.transformer_model(\n",
    "            input_ids=input_ids, attention_mask=attention_mask\n",
    "        )[0]\n",
    "        output = self.dropout(output[:, 0])  # Take the CLS token representation\n",
    "        output = self.kan(output)\n",
    "        return output"
   ]
  },
  {
   "cell_type": "code",
   "execution_count": 7,
   "metadata": {},
   "outputs": [],
   "source": [
    "# Set hyperparameters\n",
    "num_classes = 5\n",
    "learning_rate = 2e-5\n",
    "num_epochs = 3"
   ]
  },
  {
   "cell_type": "code",
   "execution_count": 8,
   "metadata": {},
   "outputs": [],
   "source": [
    "# Create the classification model\n",
    "model = KANClassificationHead(transformer_model, num_classes)\n",
    "\n",
    "# Set up the optimizer and loss function\n",
    "optimizer = torch.optim.AdamW(model.parameters(), lr=learning_rate)\n",
    "loss_fn = nn.CrossEntropyLoss()"
   ]
  },
  {
   "cell_type": "code",
   "execution_count": 9,
   "metadata": {},
   "outputs": [
    {
     "name": "stdout",
     "output_type": "stream",
     "text": [
      "Epoch 1/3, Eval Loss: 1.5609283685684203, Accuracy: 0.2600\n",
      "Epoch 2/3, Eval Loss: 1.548003327846527, Accuracy: 0.3300\n",
      "Epoch 3/3, Eval Loss: 1.5361775755882263, Accuracy: 0.3567\n"
     ]
    }
   ],
   "source": [
    "# Train\n",
    "for epoch in range(num_epochs):\n",
    "    model.train()\n",
    "    for batch in train_dataloader:\n",
    "        input_ids = batch[\"input_ids\"].to(device)\n",
    "        attention_mask = batch[\"attention_mask\"].to(device)\n",
    "        labels = batch[\"labels\"].to(device)\n",
    "        optimizer.zero_grad()\n",
    "        output = model(input_ids, attention_mask)\n",
    "        loss = loss_fn(output, labels)\n",
    "        loss.backward()\n",
    "        optimizer.step()\n",
    "\n",
    "    model.eval()\n",
    "    eval_loss = 0\n",
    "    correct_predictions = 0\n",
    "    total_samples = 0\n",
    "    for batch in eval_dataloader:\n",
    "        input_ids = batch[\"input_ids\"].to(device)\n",
    "        attention_mask = batch[\"attention_mask\"].to(device)\n",
    "        labels = batch[\"labels\"].to(device)\n",
    "        output = model(input_ids, attention_mask)\n",
    "        loss = loss_fn(output, labels)\n",
    "        eval_loss += loss.item()\n",
    "        correct_predictions += (output.argmax(dim=1) == labels).sum().item()\n",
    "        total_samples += labels.size(0)\n",
    "\n",
    "    # Show metrics\n",
    "    accuracy = correct_predictions / total_samples\n",
    "    print(\n",
    "        f\"Epoch {epoch+1}/{num_epochs}, Eval Loss: {eval_loss/len(eval_dataloader)}, Accuracy: {accuracy:.4f}\"\n",
    "    )"
   ]
  },
  {
   "cell_type": "code",
   "execution_count": null,
   "metadata": {},
   "outputs": [],
   "source": []
  }
 ],
 "metadata": {
  "kernelspec": {
   "display_name": "deeplearning",
   "language": "python",
   "name": "python3"
  },
  "language_info": {
   "codemirror_mode": {
    "name": "ipython",
    "version": 3
   },
   "file_extension": ".py",
   "mimetype": "text/x-python",
   "name": "python",
   "nbconvert_exporter": "python",
   "pygments_lexer": "ipython3",
   "version": "3.10.13"
  }
 },
 "nbformat": 4,
 "nbformat_minor": 2
}
