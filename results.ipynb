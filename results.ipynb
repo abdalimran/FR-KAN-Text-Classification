{
 "cells": [
  {
   "cell_type": "code",
   "execution_count": 6,
   "metadata": {},
   "outputs": [],
   "source": [
    "import pickle\n",
    "\n",
    "with open(\"results/imdb_bert.pickle\", \"rb\") as file:\n",
    "    stats = pickle.load(file)"
   ]
  },
  {
   "cell_type": "code",
   "execution_count": 7,
   "metadata": {},
   "outputs": [
    {
     "data": {
      "text/plain": [
       "dict_keys(['epoch_1', 'epoch_2', 'epoch_3', 'epoch_4', 'epoch_5', 'test_loss', 'test_metrics', 'test_pred', 'eval_labels', 'test_labels'])"
      ]
     },
     "execution_count": 7,
     "metadata": {},
     "output_type": "execute_result"
    }
   ],
   "source": [
    "stats.keys()"
   ]
  },
  {
   "cell_type": "code",
   "execution_count": 13,
   "metadata": {},
   "outputs": [
    {
     "data": {
      "text/plain": [
       "{'Overall ACC': 0.8138666666666666,\n",
       " 'Overall RACCU': 0.500008,\n",
       " 'Overall RACC': 0.49990812444444443,\n",
       " 'Kappa': 0.6278017251798851,\n",
       " 'Gwet AC1': 0.6277392895047011,\n",
       " 'Bennett S': 0.6277333333333333,\n",
       " 'Kappa Standard Error': 0.00898686623391858,\n",
       " 'Kappa Unbiased': 0.6277273769713648,\n",
       " 'Scott PI': 0.6277273769713648,\n",
       " 'Kappa No Prevalence': 0.6277333333333333,\n",
       " 'Kappa 95% CI': (0.6101874673614047, 0.6454159829983654),\n",
       " 'Standard Error': 0.004494258790287234,\n",
       " '95% CI': (0.8050579194377037, 0.8226754138956296),\n",
       " 'Chi-Squared': 2958.3754327144898,\n",
       " 'Phi-Squared': 0.3944500576952653,\n",
       " 'Cramer V': 0.6280525915042986,\n",
       " 'Response Entropy': 0.9999259275629001,\n",
       " 'Reference Entropy': 0.9997627951107937,\n",
       " 'Cross Entropy': 1.000339180863717,\n",
       " 'Joint Entropy': 1.6925231982880606,\n",
       " 'Conditional Entropy': 0.6927604031772666,\n",
       " 'Mutual Information': 0.3071655243856335,\n",
       " 'KL Divergence': 0.0005763857529234688,\n",
       " 'Lambda B': 0.6239224137931034,\n",
       " 'Lambda A': 0.6208582292232482,\n",
       " 'Chi-Squared DF': 1,\n",
       " 'Overall J': (1.3722950197475505, 0.6861475098737753),\n",
       " 'Hamming Loss': 0.18613333333333335,\n",
       " 'Zero-one Loss': 1396,\n",
       " 'NIR': 0.5090666666666667,\n",
       " 'P-Value': 'None',\n",
       " 'Overall CEN': 0.6368397770036114,\n",
       " 'Overall MCEN': 0.4965454122975445,\n",
       " 'Overall MCC': 0.6280525915042986,\n",
       " 'RR': 3750.0,\n",
       " 'CBA': 0.8025212506976623,\n",
       " 'AUNU': 0.8140618113291083,\n",
       " 'AUNP': 0.8140618113291083,\n",
       " 'RCI': 0.3072384028369384,\n",
       " 'Pearson C': 0.5318565715055893,\n",
       " 'TPR Micro': 0.8138666666666666,\n",
       " 'TPR Macro': 0.8140618113291083,\n",
       " 'CSI': 0.6280525955205658,\n",
       " 'ARI': 0.3939683371875202,\n",
       " 'TNR Micro': 0.8138666666666666,\n",
       " 'TNR Macro': 0.8140618113291083,\n",
       " 'Bangdiwala B': 0.6625166892888976,\n",
       " 'Krippendorff Alpha': 0.6277521951462334,\n",
       " 'SOA1(Landis & Koch)': 'Substantial',\n",
       " 'SOA2(Fleiss)': 'Intermediate to Good',\n",
       " 'SOA3(Altman)': 'Good',\n",
       " 'SOA4(Cicchetti)': 'Good',\n",
       " 'SOA5(Cramer)': 'Strong',\n",
       " 'SOA6(Matthews)': 'Moderate',\n",
       " 'SOA7(Lambda A)': 'Strong',\n",
       " 'SOA8(Lambda B)': 'Strong',\n",
       " 'SOA9(Krippendorff Alpha)': 'Low',\n",
       " 'SOA10(Pearson C)': 'Strong',\n",
       " 'FPR Macro': 0.18593818867089174,\n",
       " 'FNR Macro': 0.18593818867089174,\n",
       " 'PPV Macro': 0.8139907841914575,\n",
       " 'NPV Macro': 0.8139907841914575,\n",
       " 'ACC Macro': 0.8138666666666666,\n",
       " 'F1 Macro': 0.8138636884856825,\n",
       " 'FPR Micro': 0.18613333333333337,\n",
       " 'FNR Micro': 0.18613333333333337,\n",
       " 'PPV Micro': 0.8138666666666666,\n",
       " 'F1 Micro': 0.8138666666666666,\n",
       " 'NPV Micro': 0.8138666666666666}"
      ]
     },
     "execution_count": 13,
     "metadata": {},
     "output_type": "execute_result"
    }
   ],
   "source": [
    "stats[\"test_metrics\"].overall_stat"
   ]
  },
  {
   "cell_type": "code",
   "execution_count": null,
   "metadata": {},
   "outputs": [],
   "source": []
  }
 ],
 "metadata": {
  "kernelspec": {
   "display_name": "deeplearning",
   "language": "python",
   "name": "python3"
  },
  "language_info": {
   "codemirror_mode": {
    "name": "ipython",
    "version": 3
   },
   "file_extension": ".py",
   "mimetype": "text/x-python",
   "name": "python",
   "nbconvert_exporter": "python",
   "pygments_lexer": "ipython3",
   "version": "3.10.13"
  }
 },
 "nbformat": 4,
 "nbformat_minor": 2
}
